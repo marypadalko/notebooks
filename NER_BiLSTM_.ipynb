{
  "nbformat": 4,
  "nbformat_minor": 0,
  "metadata": {
    "accelerator": "GPU",
    "colab": {
      "name": "NER_BiLSTM.ipynb",
      "provenance": [],
      "collapsed_sections": [],
      "toc_visible": true
    },
    "kernelspec": {
      "display_name": "Python 3",
      "language": "python",
      "name": "python3"
    },
    "language_info": {
      "codemirror_mode": {
        "name": "ipython",
        "version": 3
      },
      "file_extension": ".py",
      "mimetype": "text/x-python",
      "name": "python",
      "nbconvert_exporter": "python",
      "pygments_lexer": "ipython3",
      "version": "3.6.8"
    }
  },
  "cells": [
    {
      "cell_type": "markdown",
      "metadata": {
        "id": "q4gSqDnOaJ7W"
      },
      "source": [
        "\n",
        "<h2 align=center> Named Entity Recognition (NER) using LSTMs with Keras</h2>"
      ]
    },
    {
      "cell_type": "markdown",
      "metadata": {
        "id": "fdo8oAodagwo"
      },
      "source": [
        "### 1: Import Modules"
      ]
    },
    {
      "cell_type": "code",
      "metadata": {
        "id": "oLK7Y1jiNXDa",
        "outputId": "717cfea4-3ff2-43a0-a956-33e980d920a1",
        "colab": {
          "base_uri": "https://localhost:8080/",
          "height": 50
        }
      },
      "source": [
        "%matplotlib inline\n",
        "import matplotlib.pyplot as plt\n",
        "import pandas as pd\n",
        "import numpy as np\n",
        "np.random.seed(0)\n",
        "plt.style.use(\"ggplot\")\n",
        "\n",
        "import tensorflow as tf\n",
        "print('Tensorflow version:', tf.__version__)\n",
        "print('GPU detected:', tf.config.list_physical_devices('GPU'))"
      ],
      "execution_count": 1,
      "outputs": [
        {
          "output_type": "stream",
          "text": [
            "Tensorflow version: 2.3.0\n",
            "GPU detected: [PhysicalDevice(name='/physical_device:GPU:0', device_type='GPU')]\n"
          ],
          "name": "stdout"
        }
      ]
    },
    {
      "cell_type": "markdown",
      "metadata": {
        "id": "4N_AW6lMbB5N"
      },
      "source": [
        "### 2: Load and Explore the NER Dataset"
      ]
    },
    {
      "cell_type": "code",
      "metadata": {
        "id": "72iixBujdNbI",
        "outputId": "67435831-2052-40c2-c51b-95f66b816517",
        "colab": {
          "base_uri": "https://localhost:8080/",
          "height": 34
        }
      },
      "source": [
        "from google.colab import drive\n",
        "drive.mount('/content/drive')"
      ],
      "execution_count": 2,
      "outputs": [
        {
          "output_type": "stream",
          "text": [
            "Mounted at /content/drive\n"
          ],
          "name": "stdout"
        }
      ]
    },
    {
      "cell_type": "markdown",
      "metadata": {
        "id": "Ph9YVz2Dc4pp"
      },
      "source": [
        "*Essential info about tagged entities*:\n",
        "- geo = Geographical Entity\n",
        "- org = Organization\n",
        "- per = Person\n",
        "- gpe = Geopolitical Entity\n",
        "- tim = Time indicator\n",
        "- art = Artifact\n",
        "- eve = Event\n",
        "- nat = Natural Phenomenon"
      ]
    },
    {
      "cell_type": "code",
      "metadata": {
        "id": "mCKmz4SAbI_m",
        "outputId": "7e78fdc0-62de-4927-a7ca-e267a8389047",
        "colab": {
          "base_uri": "https://localhost:8080/",
          "height": 195
        }
      },
      "source": [
        "data = pd.read_csv('drive/My Drive/ner_dataset.csv', encoding='latin1')\n",
        "data = data.fillna(method = 'ffill')\n",
        "data.head()"
      ],
      "execution_count": 3,
      "outputs": [
        {
          "output_type": "execute_result",
          "data": {
            "text/html": [
              "<div>\n",
              "<style scoped>\n",
              "    .dataframe tbody tr th:only-of-type {\n",
              "        vertical-align: middle;\n",
              "    }\n",
              "\n",
              "    .dataframe tbody tr th {\n",
              "        vertical-align: top;\n",
              "    }\n",
              "\n",
              "    .dataframe thead th {\n",
              "        text-align: right;\n",
              "    }\n",
              "</style>\n",
              "<table border=\"1\" class=\"dataframe\">\n",
              "  <thead>\n",
              "    <tr style=\"text-align: right;\">\n",
              "      <th></th>\n",
              "      <th>Sentence #</th>\n",
              "      <th>Word</th>\n",
              "      <th>POS</th>\n",
              "      <th>Tag</th>\n",
              "    </tr>\n",
              "  </thead>\n",
              "  <tbody>\n",
              "    <tr>\n",
              "      <th>0</th>\n",
              "      <td>Sentence: 1</td>\n",
              "      <td>Thousands</td>\n",
              "      <td>NNS</td>\n",
              "      <td>O</td>\n",
              "    </tr>\n",
              "    <tr>\n",
              "      <th>1</th>\n",
              "      <td>Sentence: 1</td>\n",
              "      <td>of</td>\n",
              "      <td>IN</td>\n",
              "      <td>O</td>\n",
              "    </tr>\n",
              "    <tr>\n",
              "      <th>2</th>\n",
              "      <td>Sentence: 1</td>\n",
              "      <td>demonstrators</td>\n",
              "      <td>NNS</td>\n",
              "      <td>O</td>\n",
              "    </tr>\n",
              "    <tr>\n",
              "      <th>3</th>\n",
              "      <td>Sentence: 1</td>\n",
              "      <td>have</td>\n",
              "      <td>VBP</td>\n",
              "      <td>O</td>\n",
              "    </tr>\n",
              "    <tr>\n",
              "      <th>4</th>\n",
              "      <td>Sentence: 1</td>\n",
              "      <td>marched</td>\n",
              "      <td>VBN</td>\n",
              "      <td>O</td>\n",
              "    </tr>\n",
              "  </tbody>\n",
              "</table>\n",
              "</div>"
            ],
            "text/plain": [
              "    Sentence #           Word  POS Tag\n",
              "0  Sentence: 1      Thousands  NNS   O\n",
              "1  Sentence: 1             of   IN   O\n",
              "2  Sentence: 1  demonstrators  NNS   O\n",
              "3  Sentence: 1           have  VBP   O\n",
              "4  Sentence: 1        marched  VBN   O"
            ]
          },
          "metadata": {
            "tags": []
          },
          "execution_count": 3
        }
      ]
    },
    {
      "cell_type": "code",
      "metadata": {
        "id": "riOztP-8NXHT",
        "outputId": "3033d75d-bfff-4070-ecc2-510da402ce88",
        "colab": {
          "base_uri": "https://localhost:8080/",
          "height": 34
        }
      },
      "source": [
        "print(f'Number of unique words in data: {data.Word.nunique()}, number of unique tags: {data.Tag.nunique()}')"
      ],
      "execution_count": 4,
      "outputs": [
        {
          "output_type": "stream",
          "text": [
            "Number of unique words in data: 35178, number of unique tags: 17\n"
          ],
          "name": "stdout"
        }
      ]
    },
    {
      "cell_type": "code",
      "metadata": {
        "id": "rJmR1cqWc4pu",
        "outputId": "6c607f57-8c54-4335-9b0e-ef6a5dc762c6",
        "colab": {
          "base_uri": "https://localhost:8080/",
          "height": 34
        }
      },
      "source": [
        "words = list(set(data.Word.values))\n",
        "words.append('ENDPAD')\n",
        "num_words = len(words)\n",
        "\n",
        "tags = list(set(data.Tag.values))\n",
        "num_tags = len(tags)\n",
        "\n",
        "num_words, num_tags"
      ],
      "execution_count": 5,
      "outputs": [
        {
          "output_type": "execute_result",
          "data": {
            "text/plain": [
              "(35179, 17)"
            ]
          },
          "metadata": {
            "tags": []
          },
          "execution_count": 5
        }
      ]
    },
    {
      "cell_type": "code",
      "metadata": {
        "id": "-eCAIQyJc4px",
        "outputId": "76c66cca-e75e-449e-cd1a-170605e9ba20",
        "colab": {
          "base_uri": "https://localhost:8080/",
          "height": 700
        }
      },
      "source": [
        "import matplotlib.pyplot as plt\n",
        "import seaborn as sns\n",
        "values = data.Tag.value_counts().values\n",
        "plt.figure(figsize=(12, 10))\n",
        "ax = sns.countplot(data.Tag, label='Count')\n",
        "for i, p in enumerate(ax.patches):\n",
        "    height = p.get_height()\n",
        "    ax.text(p.get_x() + p.get_width()/2., height + 0.1, values[i], ha='center')\n",
        "    \n",
        "plt.xticks(rotation=60)\n",
        "plt.title('Tag distribution')\n",
        "plt.show();"
      ],
      "execution_count": 6,
      "outputs": [
        {
          "output_type": "stream",
          "text": [
            "/usr/local/lib/python3.6/dist-packages/seaborn/_decorators.py:43: FutureWarning: Pass the following variable as a keyword arg: x. From version 0.12, the only valid positional argument will be `data`, and passing other arguments without an explicit keyword will result in an error or misinterpretation.\n",
            "  FutureWarning\n"
          ],
          "name": "stderr"
        },
        {
          "output_type": "display_data",
          "data": {
            "image/png": "[encoded data removed]",
            "text/plain": [
              "<Figure size 864x720 with 1 Axes>"
            ]
          },
          "metadata": {
            "tags": [],
            "needs_background": "light"
          }
        }
      ]
    },
    {
      "cell_type": "markdown",
      "metadata": {
        "id": "M9D9JEzUbdnS"
      },
      "source": [
        "### 3: Retrieve Sentences and Corresponsing Tags"
      ]
    },
    {
      "cell_type": "code",
      "metadata": {
        "id": "VdJst_g5NYY_"
      },
      "source": [
        "class SentenceGetter(object):\n",
        "    def __init__(self, data):\n",
        "        self.n_sent = 1\n",
        "        self.data = data\n",
        "        agg_func = lambda s: [(w, p, t) for w, p, t in zip(s['Word'].values.tolist(),\n",
        "                                                           s['POS'].values.tolist(), \n",
        "                                                           s['Tag'].values.tolist())]\n",
        "        \n",
        "        self.grouped = self.data.groupby('Sentence #').apply(agg_func)\n",
        "        self.sentences = [s for s in self.grouped]\n",
        "        "
      ],
      "execution_count": 12,
      "outputs": []
    },
    {
      "cell_type": "code",
      "metadata": {
        "id": "nMUQLppspkPj",
        "outputId": "71e2cf02-8020-42c6-9dd3-db29e4ba388a",
        "colab": {
          "base_uri": "https://localhost:8080/",
          "height": 34
        }
      },
      "source": [
        "getter = SentenceGetter(data)\n",
        "sentences = getter.sentences\n",
        "len(sentences), data['Sentence #'].nunique()"
      ],
      "execution_count": 13,
      "outputs": [
        {
          "output_type": "execute_result",
          "data": {
            "text/plain": [
              "(47959, 47959)"
            ]
          },
          "metadata": {
            "tags": []
          },
          "execution_count": 13
        }
      ]
    },
    {
      "cell_type": "code",
      "metadata": {
        "id": "GhiSTt2UdzYC",
        "outputId": "8daa5ab5-980c-4b6d-f6f9-6309ccfaad55",
        "colab": {
          "base_uri": "https://localhost:8080/",
          "height": 554
        }
      },
      "source": [
        "sentences[-1]"
      ],
      "execution_count": 14,
      "outputs": [
        {
          "output_type": "execute_result",
          "data": {
            "text/plain": [
              "[('The', 'DT', 'O'),\n",
              " ('United', 'NNP', 'B-org'),\n",
              " ('Nations', 'NNP', 'I-org'),\n",
              " ('is', 'VBZ', 'O'),\n",
              " ('praising', 'VBG', 'O'),\n",
              " ('the', 'DT', 'O'),\n",
              " ('use', 'NN', 'O'),\n",
              " ('of', 'IN', 'O'),\n",
              " ('military', 'JJ', 'O'),\n",
              " ('helicopters', 'NNS', 'O'),\n",
              " ('to', 'TO', 'O'),\n",
              " ('drop', 'VB', 'O'),\n",
              " ('food', 'NN', 'O'),\n",
              " ('and', 'CC', 'O'),\n",
              " ('rescue', 'NN', 'O'),\n",
              " ('survivors', 'NNS', 'O'),\n",
              " ('in', 'IN', 'O'),\n",
              " ('tsunami-ravaged', 'JJ', 'B-tim'),\n",
              " ('Indonesia', 'NNP', 'I-tim'),\n",
              " (',', ',', 'O'),\n",
              " ('saying', 'VBG', 'O'),\n",
              " ('the', 'DT', 'O'),\n",
              " ('aircraft', 'NN', 'O'),\n",
              " ('are', 'VBP', 'O'),\n",
              " ('\"', '``', 'O'),\n",
              " ('worth', 'IN', 'O'),\n",
              " ('their', 'PRP$', 'O'),\n",
              " ('weight', 'NN', 'O'),\n",
              " ('in', 'IN', 'O'),\n",
              " ('gold', 'NN', 'O'),\n",
              " ('.', '.', 'O'),\n",
              " ('\"', '``', 'O')]"
            ]
          },
          "metadata": {
            "tags": []
          },
          "execution_count": 14
        }
      ]
    },
    {
      "cell_type": "markdown",
      "metadata": {
        "id": "ldhuogX4eHE4"
      },
      "source": [
        "### 4: Define Mappings between Sentences and Tags"
      ]
    },
    {
      "cell_type": "code",
      "metadata": {
        "id": "SvENHO18pkaQ"
      },
      "source": [
        "word2idx = {w: i+1 for i, w in enumerate(words)}\n",
        "tag2idx = {t: i+1 for i, t in enumerate(tags)}"
      ],
      "execution_count": 15,
      "outputs": []
    },
    {
      "cell_type": "markdown",
      "metadata": {
        "id": "zXzE0MdsemCH"
      },
      "source": [
        "### 5: Padding Input Sentences, Train/Test Splits"
      ]
    },
    {
      "cell_type": "code",
      "metadata": {
        "id": "R44g5T7NYp_H",
        "outputId": "4142f002-f535-4237-b00d-f864cb34feaf",
        "colab": {
          "base_uri": "https://localhost:8080/",
          "height": 299
        }
      },
      "source": [
        "plt.hist([len(s) for s in sentences], bins=50)\n",
        "plt.title('Sentence length distribution')\n",
        "plt.xlabel('Sentence length')\n",
        "plt.ylabel('Count')\n",
        "plt.show();"
      ],
      "execution_count": 17,
      "outputs": [
        {
          "output_type": "display_data",
          "data": {
            "image/png": "[encoded data removed]",
            "text/plain": [
              "<Figure size 432x288 with 1 Axes>"
            ]
          },
          "metadata": {
            "tags": [],
            "needs_background": "light"
          }
        }
      ]
    },
    {
      "cell_type": "code",
      "metadata": {
        "id": "FS4u3CRkpkc1"
      },
      "source": [
        "from tensorflow.keras.preprocessing.sequence import pad_sequences\n",
        "from tensorflow.keras.utils import to_categorical\n",
        "\n",
        "max_len = 60\n",
        "X = [[word2idx[w[0]] for w in s] for s in sentences]\n",
        "X = pad_sequences(maxlen=max_len, sequences=X, padding='post', value=num_words-1)\n",
        "\n",
        "y = [[tag2idx[w[2]] for w in s] for s in sentences]\n",
        "y = pad_sequences(maxlen= max_len, sequences=y, padding = 'post', value=tag2idx['O'])\n",
        "y = [to_categorical(i-1, num_classes=num_tags) for i in y]"
      ],
      "execution_count": 18,
      "outputs": []
    },
    {
      "cell_type": "code",
      "metadata": {
        "id": "q7VfnnkXpkfS"
      },
      "source": [
        "from sklearn.model_selection import train_test_split\n",
        "\n",
        "x_train, x_test, y_train, y_test = train_test_split(X, y, test_size=0.1, random_state=1)"
      ],
      "execution_count": 19,
      "outputs": []
    },
    {
      "cell_type": "markdown",
      "metadata": {
        "id": "P-r4PR85hpoF"
      },
      "source": [
        "### 6: Build and Compile a Bidirectional LSTM Model"
      ]
    },
    {
      "cell_type": "code",
      "metadata": {
        "id": "Y2vM7IkXpkiH"
      },
      "source": [
        "from tensorflow.keras import Model, Input\n",
        "from tensorflow.keras.layers import LSTM, Embedding, Dense\n",
        "from tensorflow.keras.layers import TimeDistributed, SpatialDropout1D, Bidirectional"
      ],
      "execution_count": 20,
      "outputs": []
    },
    {
      "cell_type": "code",
      "metadata": {
        "id": "Aee3mCZ3pkkv",
        "outputId": "daf07c61-058d-4f7f-c846-2352275616ff",
        "colab": {
          "base_uri": "https://localhost:8080/",
          "height": 390
        }
      },
      "source": [
        "input_word = Input(shape=(max_len, ))\n",
        "model = Embedding(input_dim=num_words, output_dim=max_len, input_length=max_len)(input_word)\n",
        "model = SpatialDropout1D(0.1)(model)\n",
        "model = Bidirectional(LSTM(units=100, return_sequences=True, recurrent_dropout=0.1))(model)\n",
        "out = TimeDistributed(Dense(num_tags, activation='softmax'))(model)\n",
        "model = Model(input_word, out)\n",
        "model.summary()"
      ],
      "execution_count": 21,
      "outputs": [
        {
          "output_type": "stream",
          "text": [
            "WARNING:tensorflow:Layer lstm will not use cuDNN kernel since it doesn't meet the cuDNN kernel criteria. It will use generic GPU kernel as fallback when running on GPU\n",
            "WARNING:tensorflow:Layer lstm will not use cuDNN kernel since it doesn't meet the cuDNN kernel criteria. It will use generic GPU kernel as fallback when running on GPU\n",
            "WARNING:tensorflow:Layer lstm will not use cuDNN kernel since it doesn't meet the cuDNN kernel criteria. It will use generic GPU kernel as fallback when running on GPU\n",
            "Model: \"functional_1\"\n",
            "_________________________________________________________________\n",
            "Layer (type)                 Output Shape              Param #   \n",
            "=================================================================\n",
            "input_1 (InputLayer)         [(None, 60)]              0         \n",
            "_________________________________________________________________\n",
            "embedding (Embedding)        (None, 60, 60)            2110740   \n",
            "_________________________________________________________________\n",
            "spatial_dropout1d (SpatialDr (None, 60, 60)            0         \n",
            "_________________________________________________________________\n",
            "bidirectional (Bidirectional (None, 60, 200)           128800    \n",
            "_________________________________________________________________\n",
            "time_distributed (TimeDistri (None, 60, 17)            3417      \n",
            "=================================================================\n",
            "Total params: 2,242,957\n",
            "Trainable params: 2,242,957\n",
            "Non-trainable params: 0\n",
            "_________________________________________________________________\n"
          ],
          "name": "stdout"
        }
      ]
    },
    {
      "cell_type": "code",
      "metadata": {
        "id": "kOBpQg26pkqh"
      },
      "source": [
        "model.compile(optimizer='adam', \n",
        "             loss = 'categorical_crossentropy',\n",
        "             metrics=['accuracy'])"
      ],
      "execution_count": 31,
      "outputs": []
    },
    {
      "cell_type": "markdown",
      "metadata": {
        "id": "My0tL0cciMXQ"
      },
      "source": [
        "### 7: Train the Model"
      ]
    },
    {
      "cell_type": "code",
      "metadata": {
        "id": "LHnj9b4hgcvE",
        "outputId": "de62bcc0-fd42-471f-b01a-54911d98d185",
        "colab": {
          "base_uri": "https://localhost:8080/",
          "height": 558
        }
      },
      "source": [
        "!pip install livelossplot"
      ],
      "execution_count": 24,
      "outputs": [
        {
          "output_type": "stream",
          "text": [
            "Collecting livelossplot\n",
            "  Downloading https://files.pythonhosted.org/packages/0f/08/1884157a3de72d41fa97cacacafaa49abf00eba53cb7e08615b2b65b4a9d/livelossplot-0.5.3-py3-none-any.whl\n",
            "Requirement already satisfied: matplotlib; python_version >= \"3.6\" in /usr/local/lib/python3.6/dist-packages (from livelossplot) (3.2.2)\n",
            "Requirement already satisfied: ipython in /usr/local/lib/python3.6/dist-packages (from livelossplot) (5.5.0)\n",
            "Requirement already satisfied: bokeh; python_version >= \"3.6\" in /usr/local/lib/python3.6/dist-packages (from livelossplot) (2.1.1)\n",
            "Requirement already satisfied: kiwisolver>=1.0.1 in /usr/local/lib/python3.6/dist-packages (from matplotlib; python_version >= \"3.6\"->livelossplot) (1.2.0)\n",
            "Requirement already satisfied: pyparsing!=2.0.4,!=2.1.2,!=2.1.6,>=2.0.1 in /usr/local/lib/python3.6/dist-packages (from matplotlib; python_version >= \"3.6\"->livelossplot) (2.4.7)\n",
            "Requirement already satisfied: cycler>=0.10 in /usr/local/lib/python3.6/dist-packages (from matplotlib; python_version >= \"3.6\"->livelossplot) (0.10.0)\n",
            "Requirement already satisfied: python-dateutil>=2.1 in /usr/local/lib/python3.6/dist-packages (from matplotlib; python_version >= \"3.6\"->livelossplot) (2.8.1)\n",
            "Requirement already satisfied: numpy>=1.11 in /usr/local/lib/python3.6/dist-packages (from matplotlib; python_version >= \"3.6\"->livelossplot) (1.18.5)\n",
            "Requirement already satisfied: simplegeneric>0.8 in /usr/local/lib/python3.6/dist-packages (from ipython->livelossplot) (0.8.1)\n",
            "Requirement already satisfied: setuptools>=18.5 in /usr/local/lib/python3.6/dist-packages (from ipython->livelossplot) (50.3.0)\n",
            "Requirement already satisfied: pygments in /usr/local/lib/python3.6/dist-packages (from ipython->livelossplot) (2.6.1)\n",
            "Requirement already satisfied: pexpect; sys_platform != \"win32\" in /usr/local/lib/python3.6/dist-packages (from ipython->livelossplot) (4.8.0)\n",
            "Requirement already satisfied: prompt-toolkit<2.0.0,>=1.0.4 in /usr/local/lib/python3.6/dist-packages (from ipython->livelossplot) (1.0.18)\n",
            "Requirement already satisfied: decorator in /usr/local/lib/python3.6/dist-packages (from ipython->livelossplot) (4.4.2)\n",
            "Requirement already satisfied: pickleshare in /usr/local/lib/python3.6/dist-packages (from ipython->livelossplot) (0.7.5)\n",
            "Requirement already satisfied: traitlets>=4.2 in /usr/local/lib/python3.6/dist-packages (from ipython->livelossplot) (4.3.3)\n",
            "Requirement already satisfied: packaging>=16.8 in /usr/local/lib/python3.6/dist-packages (from bokeh; python_version >= \"3.6\"->livelossplot) (20.4)\n",
            "Requirement already satisfied: Jinja2>=2.7 in /usr/local/lib/python3.6/dist-packages (from bokeh; python_version >= \"3.6\"->livelossplot) (2.11.2)\n",
            "Requirement already satisfied: typing-extensions>=3.7.4 in /usr/local/lib/python3.6/dist-packages (from bokeh; python_version >= \"3.6\"->livelossplot) (3.7.4.3)\n",
            "Requirement already satisfied: PyYAML>=3.10 in /usr/local/lib/python3.6/dist-packages (from bokeh; python_version >= \"3.6\"->livelossplot) (3.13)\n",
            "Requirement already satisfied: pillow>=4.0 in /usr/local/lib/python3.6/dist-packages (from bokeh; python_version >= \"3.6\"->livelossplot) (7.0.0)\n",
            "Requirement already satisfied: tornado>=5.1 in /usr/local/lib/python3.6/dist-packages (from bokeh; python_version >= \"3.6\"->livelossplot) (5.1.1)\n",
            "Requirement already satisfied: six in /usr/local/lib/python3.6/dist-packages (from cycler>=0.10->matplotlib; python_version >= \"3.6\"->livelossplot) (1.15.0)\n",
            "Requirement already satisfied: ptyprocess>=0.5 in /usr/local/lib/python3.6/dist-packages (from pexpect; sys_platform != \"win32\"->ipython->livelossplot) (0.6.0)\n",
            "Requirement already satisfied: wcwidth in /usr/local/lib/python3.6/dist-packages (from prompt-toolkit<2.0.0,>=1.0.4->ipython->livelossplot) (0.2.5)\n",
            "Requirement already satisfied: ipython-genutils in /usr/local/lib/python3.6/dist-packages (from traitlets>=4.2->ipython->livelossplot) (0.2.0)\n",
            "Requirement already satisfied: MarkupSafe>=0.23 in /usr/local/lib/python3.6/dist-packages (from Jinja2>=2.7->bokeh; python_version >= \"3.6\"->livelossplot) (1.1.1)\n",
            "Installing collected packages: livelossplot\n",
            "Successfully installed livelossplot-0.5.3\n"
          ],
          "name": "stdout"
        }
      ]
    },
    {
      "cell_type": "code",
      "metadata": {
        "id": "f1WJ2nj7c4qK"
      },
      "source": [
        "from tensorflow.keras.callbacks import ModelCheckpoint, EarlyStopping\n",
        "from livelossplot.tf_keras import PlotLossesCallback"
      ],
      "execution_count": 25,
      "outputs": []
    },
    {
      "cell_type": "code",
      "metadata": {
        "id": "Q9HWH06Ypkxh",
        "outputId": "52c17b11-4a32-4e92-f5bb-7c36759c4dff",
        "colab": {
          "base_uri": "https://localhost:8080/",
          "height": 185
        }
      },
      "source": [
        "early_stopping = EarlyStopping(monitor='val_accuracy', patience=1, verbose=0, mode='max', restore_best_weights=False)\n",
        "callbacks = [early_stopping] #, PlotLossesCallback()]\n",
        "\n",
        "history = model.fit(x_train, np.array(y_train), \n",
        "                   validation_split=0.2,\n",
        "                   batch_size=32,\n",
        "                   epochs=15,\n",
        "                   verbose=1,\n",
        "                   callbacks=callbacks)"
      ],
      "execution_count": 32,
      "outputs": [
        {
          "output_type": "stream",
          "text": [
            "Epoch 1/15\n",
            "1080/1080 [==============================] - 422s 391ms/step - loss: 0.1606 - accuracy: 0.9642 - val_loss: 0.0554 - val_accuracy: 0.9842\n",
            "Epoch 2/15\n",
            "1080/1080 [==============================] - 422s 390ms/step - loss: 0.0433 - accuracy: 0.9873 - val_loss: 0.0420 - val_accuracy: 0.9873\n",
            "Epoch 3/15\n",
            "1080/1080 [==============================] - 418s 387ms/step - loss: 0.0314 - accuracy: 0.9904 - val_loss: 0.0393 - val_accuracy: 0.9880\n",
            "Epoch 4/15\n",
            "1080/1080 [==============================] - 418s 387ms/step - loss: 0.0257 - accuracy: 0.9919 - val_loss: 0.0395 - val_accuracy: 0.9882\n",
            "Epoch 5/15\n",
            "1080/1080 [==============================] - 412s 381ms/step - loss: 0.0220 - accuracy: 0.9929 - val_loss: 0.0407 - val_accuracy: 0.9878\n"
          ],
          "name": "stdout"
        }
      ]
    },
    {
      "cell_type": "code",
      "metadata": {
        "id": "aZt9zK-OhrQ3",
        "outputId": "3067f3c1-68aa-467f-d6da-2ad04754c531",
        "colab": {
          "base_uri": "https://localhost:8080/",
          "height": 473
        }
      },
      "source": [
        "def plot_accuracy(history, title=f'accuracy for train and val'):\n",
        "    plt.figure(figsize=(7,3))\n",
        "    plt.plot(np.arange(1, len(history.history['accuracy'])+ 1), history.history['accuracy'],'r', label='accuracy')\n",
        "    plt.plot(np.arange(1, len(history.history['val_accuracy'])+1), history.history['val_accuracy'],'b', label = 'val_accuracy')\n",
        "    best_val_acc = round(max(history.history['val_accuracy']), 5)\n",
        "    plt.scatter(np.argmax(list(history.history['val_accuracy']))+1, max(history.history['val_accuracy']), c='magenta',\n",
        "               label=f'highest val_accuracy: {best_val_acc}')\n",
        "    plt.xlabel('epoch')\n",
        "    plt.ylabel('accuracy score')\n",
        "    plt.ylim([0.7, 1])\n",
        "    plt.xlim([1, len(history.history['accuracy'])+1])\n",
        "    plt.title(title)\n",
        "    plt.legend()\n",
        "    plt.show()\n",
        "\n",
        "\n",
        "def plot_loss(history, title=f'losses for train and val'):\n",
        "    plt.figure(figsize=(7,3))\n",
        "    plt.plot(np.arange(1, len(history.history['loss'])+ 1), history.history['loss'],'r', label='loss')\n",
        "    plt.plot(np.arange(1, len(history.history['val_loss'])+1), history.history['val_loss'],'b', label = 'val_loss')\n",
        "    best_val_loss = round(min(history.history['val_loss']), 5)\n",
        "    plt.scatter(np.argmin(list(history.history['val_loss']))+1, min(history.history['val_loss']), c='magenta',\n",
        "               label=f'lowest val_loss: {best_val_loss}')\n",
        "    plt.xlabel('epoch')\n",
        "    plt.ylabel('loss')\n",
        "    plt.ylim([0, 1])\n",
        "    plt.xlim([1, len(history.history['loss'])+1])\n",
        "    plt.title(title)\n",
        "    plt.legend()\n",
        "    plt.show()\n",
        "\n",
        "\n",
        "plot_accuracy(history)\n",
        "plot_loss(history)"
      ],
      "execution_count": 40,
      "outputs": [
        {
          "output_type": "display_data",
          "data": {
            "image/png": "[encoded data removed]",
            "text/plain": [
              "<Figure size 504x216 with 1 Axes>"
            ]
          },
          "metadata": {
            "tags": [],
            "needs_background": "light"
          }
        },
        {
          "output_type": "display_data",
          "data": {
            "image/png": "[encoded data removed]",
            "text/plain": [
              "<Figure size 504x216 with 1 Axes>"
            ]
          },
          "metadata": {
            "tags": [],
            "needs_background": "light"
          }
        }
      ]
    },
    {
      "cell_type": "markdown",
      "metadata": {
        "id": "2nwnnF0ziU3B"
      },
      "source": [
        "### 8: Evaluate Named Entity Recognition Model"
      ]
    },
    {
      "cell_type": "code",
      "metadata": {
        "id": "6euqX7UHplG7",
        "outputId": "c86badd2-9c20-4ade-c8b6-37ed33fece9f",
        "colab": {
          "base_uri": "https://localhost:8080/",
          "height": 50
        }
      },
      "source": [
        "model.evaluate(x_test, np.array(y_test))"
      ],
      "execution_count": 41,
      "outputs": [
        {
          "output_type": "stream",
          "text": [
            "150/150 [==============================] - 5s 35ms/step - loss: 0.0413 - accuracy: 0.9876\n"
          ],
          "name": "stdout"
        },
        {
          "output_type": "execute_result",
          "data": {
            "text/plain": [
              "[0.0413159504532814, 0.9875799417495728]"
            ]
          },
          "metadata": {
            "tags": []
          },
          "execution_count": 41
        }
      ]
    },
    {
      "cell_type": "code",
      "metadata": {
        "id": "Tyg4mKOVplJ-",
        "outputId": "4752b855-e3af-4289-c86a-dfd35cd0c1cf",
        "colab": {
          "base_uri": "https://localhost:8080/",
          "height": 1000
        }
      },
      "source": [
        "i = np.random.randint(0, len(x_test)-1)\n",
        "p = model.predict(np.array([x_test[i]]))\n",
        "p = np.argmax(p, axis=-1)\n",
        "\n",
        "y_true = np.argmax(np.array(y_test)[i], axis=-1)\n",
        "print('{:15}{:5}\\t {}\\n'.format(\"Word\", \"True\", \"Pred\"))\n",
        "print('_'*30)\n",
        "for w, true, pred in zip(x_test[i], y_true, p[0]):\n",
        "    print(\"{:15}{}\\t{}\".format(words[w-1], tags[true], tags[pred]))"
      ],
      "execution_count": 42,
      "outputs": [
        {
          "output_type": "stream",
          "text": [
            "Word           True \t Pred\n",
            "\n",
            "______________________________\n",
            "The            O\tO\n",
            "United         B-geo\tB-geo\n",
            "States         I-geo\tI-geo\n",
            "and            O\tO\n",
            "the            O\tO\n",
            "European       B-org\tB-org\n",
            "Union          I-org\tI-org\n",
            "denounced      O\tO\n",
            "the            O\tO\n",
            "arrests        O\tO\n",
            ",              O\tO\n",
            "and            O\tO\n",
            "enacted        O\tO\n",
            "a              O\tO\n",
            "visa           O\tO\n",
            "ban            O\tO\n",
            "on             O\tO\n",
            "President      B-per\tB-per\n",
            "Lukashenko     I-per\tI-per\n",
            "and            O\tO\n",
            "other          O\tO\n",
            "top            O\tO\n",
            "Belarus        B-org\tB-geo\n",
            "officials      O\tO\n",
            "to             O\tO\n",
            "protest        O\tO\n",
            "the            O\tO\n",
            "fraud          O\tO\n",
            ".              O\tO\n",
            "well-preserved O\tO\n",
            "well-preserved O\tO\n",
            "well-preserved O\tO\n",
            "well-preserved O\tO\n",
            "well-preserved O\tO\n",
            "well-preserved O\tO\n",
            "well-preserved O\tO\n",
            "well-preserved O\tO\n",
            "well-preserved O\tO\n",
            "well-preserved O\tO\n",
            "well-preserved O\tO\n",
            "well-preserved O\tO\n",
            "well-preserved O\tO\n",
            "well-preserved O\tO\n",
            "well-preserved O\tO\n",
            "well-preserved O\tO\n",
            "well-preserved O\tO\n",
            "well-preserved O\tO\n",
            "well-preserved O\tO\n",
            "well-preserved O\tO\n",
            "well-preserved O\tO\n",
            "well-preserved O\tO\n",
            "well-preserved O\tO\n",
            "well-preserved O\tO\n",
            "well-preserved O\tO\n",
            "well-preserved O\tO\n",
            "well-preserved O\tO\n",
            "well-preserved O\tO\n",
            "well-preserved O\tO\n",
            "well-preserved O\tO\n",
            "well-preserved O\tO\n"
          ],
          "name": "stdout"
        }
      ]
    },
    {
      "cell_type": "code",
      "metadata": {
        "id": "gexcHbAHc4qR"
      },
      "source": [
        ""
      ],
      "execution_count": null,
      "outputs": []
    }
  ]
}